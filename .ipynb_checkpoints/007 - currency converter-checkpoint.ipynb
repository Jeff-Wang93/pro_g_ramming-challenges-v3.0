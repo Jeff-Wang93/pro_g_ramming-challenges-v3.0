{
 "cells": [
  {
   "cell_type": "code",
   "execution_count": 5,
   "metadata": {},
   "outputs": [],
   "source": [
    "# 3rd party library\n",
    "import requests"
   ]
  },
  {
   "cell_type": "code",
   "execution_count": 6,
   "metadata": {},
   "outputs": [],
   "source": [
    "# using fixer.io free plan\n",
    "api_url_base = 'http://data.fixer.io/api/'\n",
    "api_endpoint = 'latest'\n",
    "api_key = '38d5120be992b82106055a6a2568d2a9'\n",
    "\n",
    "api_url = api_url_base + api_endpoint\n",
    "payload = {'access_key' : api_key}\n",
    "\n",
    "TARGET = 'USD'\n",
    "payload['symbols'] = TARGET\n",
    "r = requests.get(api_url, params=payload)"
   ]
  },
  {
   "cell_type": "code",
   "execution_count": 7,
   "metadata": {},
   "outputs": [],
   "source": [
    "# can only use base of EUR (due to free plan) and convert to target\n",
    "def currency_converter(money, r, target_symbol):\n",
    "    exchange = r.json()['rates'][target_symbol]\n",
    "    return(float(money) * exchange)"
   ]
  },
  {
   "cell_type": "code",
   "execution_count": 8,
   "metadata": {},
   "outputs": [
    {
     "name": "stdout",
     "output_type": "stream",
     "text": [
      "with 100 EUR, you can get 114.9685 USD\n"
     ]
    }
   ],
   "source": [
    "MONEY = 100\n",
    "converted = currency_converter(MONEY, r, TARGET)\n",
    "print(\"with \" + str(MONEY) + \" EUR, you can get \" + str(converted) + \" \" + TARGET)"
   ]
  },
  {
   "cell_type": "code",
   "execution_count": null,
   "metadata": {},
   "outputs": [],
   "source": []
  }
 ],
 "metadata": {
  "kernelspec": {
   "display_name": "Python 3",
   "language": "python",
   "name": "python3"
  },
  "language_info": {
   "codemirror_mode": {
    "name": "ipython",
    "version": 3
   },
   "file_extension": ".py",
   "mimetype": "text/x-python",
   "name": "python",
   "nbconvert_exporter": "python",
   "pygments_lexer": "ipython3",
   "version": "3.7.0"
  }
 },
 "nbformat": 4,
 "nbformat_minor": 2
}
