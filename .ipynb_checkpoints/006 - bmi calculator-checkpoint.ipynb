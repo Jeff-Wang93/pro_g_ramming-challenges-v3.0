{
 "cells": [
  {
   "cell_type": "code",
   "execution_count": 8,
   "metadata": {},
   "outputs": [
    {
     "name": "stdout",
     "output_type": "stream",
     "text": [
      "input your weight in kg: 32\n",
      "input your height in m: 1.72\n"
     ]
    }
   ],
   "source": [
    "# use metric units\n",
    "# formula = kg/m^2\n",
    "\n",
    "def bmi_calculator(weight, height):\n",
    "    return str(weight / (height ** 2))\n",
    "\n",
    "weight = float(input('input your weight in kg: '))\n",
    "height = float(input('input your height in m: '))"
   ]
  },
  {
   "cell_type": "code",
   "execution_count": 9,
   "metadata": {},
   "outputs": [
    {
     "name": "stdout",
     "output_type": "stream",
     "text": [
      "your bmi is : 10.81665765278529\n"
     ]
    }
   ],
   "source": [
    "bmi = bmi_calculator(weight, height)\n",
    "print(\"your bmi is : \" + bmi)"
   ]
  }
 ],
 "metadata": {
  "kernelspec": {
   "display_name": "Python 3",
   "language": "python",
   "name": "python3"
  },
  "language_info": {
   "codemirror_mode": {
    "name": "ipython",
    "version": 3
   },
   "file_extension": ".py",
   "mimetype": "text/x-python",
   "name": "python",
   "nbconvert_exporter": "python",
   "pygments_lexer": "ipython3",
   "version": "3.7.0"
  }
 },
 "nbformat": 4,
 "nbformat_minor": 2
}
